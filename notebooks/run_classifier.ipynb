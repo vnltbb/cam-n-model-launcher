{
 "cells": [
  {
   "cell_type": "markdown",
   "id": "6bc1a11a",
   "metadata": {},
   "source": [
    "1. import"
   ]
  },
  {
   "cell_type": "code",
   "execution_count": null,
   "id": "a10240fb",
   "metadata": {},
   "outputs": [],
   "source": [
    "import os\n",
    "import numpy as np\n",
    "from tensorflow.keras.models import load_model\n",
    "from utils.image_preprocessing import load_images_from_path\n",
    "from utils.visualization import save_classification_result"
   ]
  },
  {
   "cell_type": "markdown",
   "id": "c64f9277",
   "metadata": {},
   "source": [
    "2. settings"
   ]
  },
  {
   "cell_type": "code",
   "execution_count": null,
   "id": "8f09529d",
   "metadata": {},
   "outputs": [],
   "source": [
    "model_path = \"../saved_models/EfficientNetB0_seed99.keras\"\n",
    "input_path = \"../inputs/input1.jpg\"  # or \"../inputs/inputs_1/\"\n",
    "save_root = \"../results/classification\"\n",
    "class_names = [\"Bacterial_spotted\", \"Healthy\", \"Powdery_mildew\", \"PMMoV\", \"TSWV\"]"
   ]
  },
  {
   "cell_type": "markdown",
   "id": "68d10906",
   "metadata": {},
   "source": [
    "3. model load"
   ]
  },
  {
   "cell_type": "code",
   "execution_count": null,
   "id": "4edcf1cf",
   "metadata": {},
   "outputs": [],
   "source": [
    "model = load_model(model_path)"
   ]
  },
  {
   "cell_type": "markdown",
   "id": "f4cf60f0",
   "metadata": {},
   "source": [
    "4. image load and preprocessing"
   ]
  },
  {
   "cell_type": "code",
   "execution_count": null,
   "id": "0307e74b",
   "metadata": {},
   "outputs": [],
   "source": [
    "images_np, filenames = load_images_from_path(input_path, model_path)\n",
    "print(f\"🔎 처리할 이미지 수: {len(filenames)}\")"
   ]
  },
  {
   "cell_type": "markdown",
   "id": "aa68edc8",
   "metadata": {},
   "source": [
    "5. prediction and save"
   ]
  },
  {
   "cell_type": "code",
   "execution_count": null,
   "id": "a4ffe1a7",
   "metadata": {},
   "outputs": [],
   "source": [
    "for idx, img_array in enumerate(images_np):\n",
    "    fname = filenames[idx]\n",
    "    input_folder = os.path.basename(input_path) if os.path.isdir(input_path) else None\n",
    "\n",
    "    # (1) 예측\n",
    "    preds = model.predict(np.expand_dims(img_array, axis=0))  # (1, num_classes)\n",
    "    top3_idx = np.argsort(preds[0])[::-1][:3]\n",
    "    top3_labels = [class_names[i] for i in top3_idx]\n",
    "    top3_probs = [preds[0][i] for i in top3_idx]\n",
    "\n",
    "    # (2) 시각화용 원본 복원 (전처리된 이미지는 정규화된 상태)\n",
    "    restored_img = (img_array - np.min(img_array)) / (np.max(img_array) - np.min(img_array)) * 255\n",
    "    restored_img = np.clip(restored_img, 0, 255).astype(np.uint8)\n",
    "\n",
    "    # (3) 저장\n",
    "    save_classification_result(\n",
    "        img_array=restored_img,\n",
    "        top_preds=top3_labels,\n",
    "        probs=top3_probs,\n",
    "        save_dir=save_root,\n",
    "        input_name=fname,\n",
    "        input_folder=input_folder\n",
    "    )"
   ]
  }
 ],
 "metadata": {
  "language_info": {
   "name": "python"
  }
 },
 "nbformat": 4,
 "nbformat_minor": 5
}
