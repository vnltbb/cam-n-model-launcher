{
 "cells": [
  {
   "cell_type": "markdown",
   "id": "2b03cbc0",
   "metadata": {},
   "source": [
    "1. Import"
   ]
  },
  {
   "cell_type": "code",
   "execution_count": null,
   "id": "cc8481dd",
   "metadata": {},
   "outputs": [],
   "source": [
    "import os\n",
    "import numpy as np\n",
    "from tensorflow.keras.models import load_model\n",
    "from utils.image_preprocessing import load_images_from_path\n",
    "from utils.gradcam import make_gradcam_heatmap\n",
    "from utils.visualization import save_gradcam_result\n",
    "\n",
    "# 클래스 정보 로딩 함수\n",
    "def load_class_name(model_path):\n",
    "    base = os.path.splitext(model_path)[0]\n",
    "    class_file = base + \"_classes.txt\"\n",
    "    with open(class_file, 'r') as f:\n",
    "        class_names = [line.strip() for line in f. readlines()]\n",
    "    return class_names"
   ]
  },
  {
   "cell_type": "markdown",
   "id": "afdc01bc",
   "metadata": {},
   "source": [
    "2. setting"
   ]
  },
  {
   "cell_type": "code",
   "execution_count": null,
   "id": "84015f87",
   "metadata": {},
   "outputs": [],
   "source": [
    "model_path = \n",
    "input_path =\n",
    "save_dir = \n",
    "\n",
    "model = load_model(model_path)\n",
    "class_names = load_class_name(model_path)"
   ]
  },
  {
   "cell_type": "markdown",
   "id": "1fcdbd15",
   "metadata": {},
   "source": [
    "3. model layer check"
   ]
  },
  {
   "cell_type": "code",
   "execution_count": null,
   "id": "ee4c5f3d",
   "metadata": {},
   "outputs": [],
   "source": [
    "# 전체 구조 출력 (요약)\n",
    "model.summary()\n",
    "\n",
    "# 또는 레이어 이름만 리스트로 보기\n",
    "for layer in model.layers:\n",
    "    print(f\"{layer.name:30} | {layer.output_shape}\")"
   ]
  },
  {
   "cell_type": "markdown",
   "id": "32960c60",
   "metadata": {},
   "source": [
    "4. image loading"
   ]
  },
  {
   "cell_type": "code",
   "execution_count": null,
   "id": "11ef4711",
   "metadata": {},
   "outputs": [],
   "source": [
    "images_np, filenames = load_images_from_path(input_path, model_path)\n",
    "input_name = filenames[0]\n",
    "img_array = images_np[0:1]  # (1, H, W, 3)\n",
    "restored_img = (images_np[0] * 255.0).astype(np.uint8)"
   ]
  },
  {
   "cell_type": "markdown",
   "id": "386022a4",
   "metadata": {},
   "source": [
    "5. Grad-CAM"
   ]
  },
  {
   "cell_type": "code",
   "execution_count": null,
   "id": "5adbf531",
   "metadata": {},
   "outputs": [],
   "source": [
    "layer_name = \"top_conv\"  # 예: EfficientNetB0의 마지막 conv layer\n",
    "class_index = None       # 예측 확률 가장 높은 클래스 자동 선택\n",
    "\n",
    "heatmap = make_gradcam_heatmap(\n",
    "    img_array=img_array,\n",
    "    model=model,\n",
    "    layer_name=layer_name,\n",
    "    class_index=class_index\n",
    ")"
   ]
  },
  {
   "cell_type": "markdown",
   "id": "74bf67cf",
   "metadata": {},
   "source": [
    "6. save results"
   ]
  },
  {
   "cell_type": "code",
   "execution_count": null,
   "id": "fb8e52d2",
   "metadata": {},
   "outputs": [],
   "source": [
    "model_name = os.path.splitext(os.path.basename(model_path))[0].split('_')[0]\n",
    "\n",
    "save_gradcam_result(\n",
    "    orig_image=restored_img,\n",
    "    heatmap=heatmap,\n",
    "    save_dir=save_dir,\n",
    "    model_name=model_name,\n",
    "    layer_name=layer_name,\n",
    "    input_name=input_name\n",
    ")"
   ]
  }
 ],
 "metadata": {
  "language_info": {
   "name": "python"
  }
 },
 "nbformat": 4,
 "nbformat_minor": 5
}
